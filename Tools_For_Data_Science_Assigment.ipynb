{
  "metadata": {
    "language_info": {
      "codemirror_mode": {
        "name": "python",
        "version": 3
      },
      "file_extension": ".py",
      "mimetype": "text/x-python",
      "name": "python",
      "nbconvert_exporter": "python",
      "pygments_lexer": "ipython3",
      "version": "3.8"
    },
    "kernelspec": {
      "name": "python",
      "display_name": "Pyolite",
      "language": "python"
    }
  },
  "nbformat_minor": 4,
  "nbformat": 4,
  "cells": [
    {
      "cell_type": "markdown",
      "source": "# My Jupyter Notebook on IBM Watson Studio",
      "metadata": {}
    },
    {
      "cell_type": "markdown",
      "source": "**Pablo Vinicio Cordero Araya**  \nSoftware Developer",
      "metadata": {}
    },
    {
      "cell_type": "markdown",
      "source": "*I am interested in data science because of my software development background. I want to expand my knowledge in computer science and statistics, to move away from web development which it's my current experience*  ",
      "metadata": {}
    },
    {
      "cell_type": "markdown",
      "source": "### The following code is supposed to give a random number to anyone who reviews this assigment.",
      "metadata": {}
    },
    {
      "cell_type": "code",
      "source": "import random\n\nlucky_number = random.randrange(0, 100, 1)\ngreeting = f'Hello! fellow Data Science student, your lucky number is: {lucky_number}'\nprint(greeting)",
      "metadata": {
        "trusted": true
      },
      "execution_count": 21,
      "outputs": [
        {
          "name": "stdout",
          "text": "Hello! fellow Data Science student, your lucky number is: 18\n",
          "output_type": "stream"
        }
      ]
    },
    {
      "cell_type": "markdown",
      "source": "___\nThe following is a list of some of my favorite bands:\n\n- [Testament](https://www.youtube.com/watch?v=felyOmO6liE)\n\n- [Helloween](https://www.youtube.com/watch?v=FjV8SHjHvHk)\n\n- [Mastodon](https://www.youtube.com/watch?v=jWFWazj7Ud8)\n\n- [WarCry](https://www.youtube.com/watch?v=0gn85WeB3rs)\n\n- [Trivium](https://www.youtube.com/watch?v=8VqQPBrhmaY)\n\n > \"I associate heavy metal with fantasy because of the tremendous power that the music delivers.\"  - Christopher Lee.\n ___",
      "metadata": {}
    }
  ]
}